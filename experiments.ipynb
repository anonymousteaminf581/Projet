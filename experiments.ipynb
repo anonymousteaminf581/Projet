{
 "cells": [
  {
   "cell_type": "markdown",
   "metadata": {},
   "source": [
    "# 0. Installation of the environment"
   ]
  },
  {
   "cell_type": "markdown",
   "metadata": {},
   "source": [
    "In order to use the environment, you have to install the package gym-foo with **pip install -e gym-foo** were the directory is located (at least on linux)."
   ]
  },
  {
   "cell_type": "code",
   "execution_count": 1,
   "metadata": {},
   "outputs": [],
   "source": [
    "import gym\n",
    "import numpy\n",
    "import matplotlib.pyplot as plt\n",
    "env = gym.make('gym_foo:foo-v0', cr = 7, pr = 10, np = 2, ng = 10, alphas = [1,1]) # you can pass the arguments of the __init__ method here"
   ]
  },
  {
   "cell_type": "markdown",
   "metadata": {},
   "source": [
    "# 1. Principe du jeu"
   ]
  },
  {
   "cell_type": "markdown",
   "metadata": {},
   "source": [
    "The game has a finite number of rounds.\n",
    "\n",
    "In each round, each player can choose to **cooperate** or **play selfishly**.\n",
    "All players make their choice simultaneously. Thus, no player knows what the others choose during the current round.\n",
    "\n",
    "At the beginning of the round, the collective fund is empty.\n",
    "If a player **cooperates**, he increases the collective pool by C, but his **personal bonus** is void.\n",
    "If he **does not**, the collective fund does not increase, but his **personal bonus** is worth P.\n",
    "C and P are fixed at the beginning of the game and are known to all.\n",
    "\n",
    "The collective prize pool then corresponds to C multiplied by the number of cooperating players.\n",
    "\n",
    "At the end of the round, **each** player receives an amount equal to the total amount of the collective prize pool, plus their personal bonus, regardless of their choice. \n",
    "\n",
    "$R_i = C\\left(\\sum_{j=1}^n \\mathbb{1}_{a_j=0} \\right) + P\\mathbb{1}_{a_i=1} = C \\left(1+\\sum_{j\\neq i}^n \\mathbb{1}_{a_j=0} \\right) + \\left(P- C\\right)\\mathbb{1}_{a_i=1}$\n",
    "where $R_i$ is the $i$-th player's win in the last round (so not the accumulated winnings), $a_i$ is the action of the $i$-th player in the considered turn, with $a_i=1$ if he prefers and $a_i=0$ otherwise, and $P > C$.\n",
    "\n",
    "\n",
    "If C is too low (nC <= P where n is the number of players), then the players have no interest in cooperating.\n",
    "The game is only interesting if nC > P.\n",
    "\n",
    "The interest of the game lies in the strategies adopted by the players. The best situation for a player is the one where he is privileged and all the others cooperate. But in this case, he loses the confidence of the other players who can make him pay for it in the following turns by not cooperating any more. \n",
    "\n",
    "If there are only a few players in the game, one would expect to see different behaviour, since taking revenge on one player will reduce the winnings of all of them.\n",
    "\n",
    "Here is an example of a 2-player game in three rounds, with $P = $10 and $C = $7: \n",
    "```text\n",
    " iter  | p1 | p2\n",
    "    1  |  0 |  0\n",
    "rewards| 14 | 14 \n",
    "    2  |  1 |  0\n",
    "rewards| 17 |  7\n",
    "    3  |  1 |  1\n",
    "rewards| 10 | 10\n",
    "-----------------\n",
    "total  | 41 | 31\n",
    "```\n",
    "\n",
    "At the first all, both players have cooperated, so the collective prize pool is 2*7 = 14 and neither receives a bonus.\n",
    "In the second round, only p2 cooperates. The collective jackpot is worth 7 and p1 receives a bonus of 10.\n",
    "In the third round, no player cooperates. The community pool is void and both players receive a bonus of 10."
   ]
  },
  {
   "cell_type": "markdown",
   "metadata": {},
   "source": [
    "# 2. Basic example "
   ]
  },
  {
   "cell_type": "code",
   "execution_count": 2,
   "metadata": {},
   "outputs": [
    {
     "name": "stdout",
     "output_type": "stream",
     "text": [
      "End of the 10 turns.\n",
      " iter | p1 | p2 \n",
      "     1| 0  | 1  \n",
      "     2| 1  | 0  \n",
      "     3| 1  | 1  \n",
      "     4| 0  | 1  \n",
      "     5| 1  | 0  \n",
      "     6| 0  | 1  \n",
      "     7| 0  | 0  \n",
      "     8| 1  | 0  \n",
      "     9| 0  | 1  \n",
      "    10| 1  | 0  \n",
      "scores|120 |120 \n",
      " util |120 |120 \n",
      "\n",
      "p1 has won !\n"
     ]
    }
   ],
   "source": [
    "for i_episode in range(1):\n",
    "    observation = env.reset()\n",
    "    for t in range(10):\n",
    "#         env.render()\n",
    "#         print(observation)\n",
    "        action = numpy.random.randint(0,2,env.num_of_players)\n",
    "        observation, reward, done, info = env.step(action)\n",
    "\n",
    "        if done:\n",
    "            env.close()\n",
    "            break"
   ]
  },
  {
   "cell_type": "markdown",
   "metadata": {},
   "source": [
    "# 3. Test with Q-Learning and tables\n",
    "We initialize with the reward of a 1-turn game according to the number of cooperating agent and the action the agent has chosen."
   ]
  },
  {
   "cell_type": "markdown",
   "metadata": {},
   "source": [
    "We implement a function to enhance the lisibility of the result tables."
   ]
  },
  {
   "cell_type": "code",
   "execution_count": 3,
   "metadata": {},
   "outputs": [],
   "source": [
    "def interpretation(table):\n",
    "    num_of_players = table.shape[1]\n",
    "    print(\"num of cooperating players | Q-value if cooperating | Q-value if not\")\n",
    "    for i,line in enumerate(table):\n",
    "        print(\"{0:^26} | {1:^22} | {2:^14}\".format(i,*line))"
   ]
  },
  {
   "cell_type": "markdown",
   "metadata": {},
   "source": [
    "## 3.1 $\\epsilon$-greedy selection, $\\epsilon$ decreasing"
   ]
  },
  {
   "cell_type": "code",
   "execution_count": 4,
   "metadata": {},
   "outputs": [],
   "source": [
    "tables = [numpy.zeros((env.num_of_players,2)) for player in env.player]\n",
    "alpha = .9\n",
    "gamma = .85\n",
    "epsilon = 0.5\n",
    "numpy.random.seed(42)\n",
    "nb_iter = 100000\n",
    "scores = numpy.zeros((env.num_of_players,nb_iter))\n",
    "\n",
    "for i_episode in range(nb_iter):\n",
    "    s_t1 = env.reset()\n",
    "    \n",
    "    for t in range(10):\n",
    "#         env.render()\n",
    "        if t == 0:\n",
    "            s_t1 = [0 for player in env.player] # We start with the idea that everyone is cooperating. That is a choice.\n",
    "            \n",
    "        a_t1 = numpy.zeros(env.num_of_players, dtype = \"int\")\n",
    "        for i,player in enumerate(env.player):\n",
    "            # The only relevant information is the number of agents who chose to cooperate.\n",
    "            # We simplify the state with the number of cooperating agents.\n",
    "            # We will update a table in order to find the best action according to the number of cooperating players\n",
    "            \n",
    "            coop = env.num_of_players - 1 - (sum(s_t1) - s_t1[i])\n",
    "            best_action = numpy.argmax(tables[i][coop])\n",
    "            if 1-epsilon/(i_episode + 1) > numpy.random.uniform():  \n",
    "                a_t1[i] = best_action\n",
    "            else:\n",
    "                a_t1[i] = 1 - best_action\n",
    "\n",
    "        s_t2, r_t1, done, info = env.step(a_t1)\n",
    "        for i,player in enumerate(env.player):\n",
    "            tab = tables[i]\n",
    "            coop_t1, coop_t2 = env.num_of_players - 1 - (sum(s_t1) - s_t1[i]), env.num_of_players - 1 -(sum(s_t2) - s_t2[i])\n",
    "\n",
    "            tab[coop_t1][a_t1[i]] += alpha * (r_t1[i] + gamma * max(tab[coop_t2]) - tab[coop_t1][a_t1[i]])\n",
    "        \n",
    "        s_t1 = s_t2\n",
    "            \n",
    "        if done:\n",
    "            current_scores = [player.balance for player in env.player]\n",
    "            for i,player in enumerate(env.player):\n",
    "                scores[i,i_episode] = player.utility(current_scores[i], current_scores)\n",
    "            break"
   ]
  },
  {
   "cell_type": "code",
   "execution_count": 5,
   "metadata": {},
   "outputs": [
    {
     "name": "stdout",
     "output_type": "stream",
     "text": [
      "p1\n",
      "num of cooperating players | Q-value if cooperating | Q-value if not\n",
      "            0              |   63.66666666666671    | 66.66666666666671\n",
      "            1              |   63.675044854998475   | 66.66666666666671\n",
      "p2\n",
      "num of cooperating players | Q-value if cooperating | Q-value if not\n",
      "            0              |   63.66666666666671    | 66.66666666666671\n",
      "            1              |   63.66666671756393    | 66.66666666666671\n"
     ]
    }
   ],
   "source": [
    "for player, table in zip(env.player, tables):\n",
    "    print(player.name)\n",
    "    interpretation(table)"
   ]
  },
  {
   "cell_type": "code",
   "execution_count": 6,
   "metadata": {},
   "outputs": [
    {
     "data": {
      "image/png": "[encoded data removed]",
      "text/plain": [
       "<Figure size 432x288 with 1 Axes>"
      ]
     },
     "metadata": {
      "needs_background": "light"
     },
     "output_type": "display_data"
    }
   ],
   "source": [
    "plt.plot(list(range(1,nb_iter + 1)), scores[0,:], label = \"player 1\")\n",
    "plt.plot(list(range(1,nb_iter + 1)), scores[1,:], label = \"player 2\")\n",
    "plt.xlabel(\"number of games\")\n",
    "plt.ylabel(\"score\")\n",
    "plt.legend()\n",
    "plt.show()"
   ]
  },
  {
   "cell_type": "code",
   "execution_count": 7,
   "metadata": {},
   "outputs": [
    {
     "name": "stdout",
     "output_type": "stream",
     "text": [
      "End of the 10 turns.\n",
      " iter | p1 | p2 \n",
      "     1| 1  | 1  \n",
      "     2| 1  | 1  \n",
      "     3| 1  | 1  \n",
      "     4| 1  | 1  \n",
      "     5| 1  | 1  \n",
      "     6| 1  | 1  \n",
      "     7| 1  | 1  \n",
      "     8| 1  | 1  \n",
      "     9| 1  | 1  \n",
      "    10| 1  | 1  \n",
      "scores|100 |100 \n",
      " util |100 |100 \n",
      "\n",
      "p1 has won !\n"
     ]
    }
   ],
   "source": [
    "env.reset()\n",
    "\n",
    "for t in range(10):\n",
    "#     env.render()\n",
    "    if t == 0:\n",
    "        state = [0 for player in env.player] # We start with the idea that everyone is cooperating. That is a choice.\n",
    "\n",
    "    action = numpy.zeros(env.num_of_players, dtype = \"int\")\n",
    "    for i,player in enumerate(env.player):\n",
    "        coop = env.num_of_players - 1 - (sum(state) - state[i]) # Number of players who have cooperated among the other agents\n",
    "        best_action = numpy.argmax(tables[i][coop])  \n",
    "        action[i] = best_action\n",
    "    \n",
    "    state, rewards, done, info = env.step(action)\n",
    "    \n",
    "    if done:\n",
    "        env.close()"
   ]
  },
  {
   "cell_type": "markdown",
   "metadata": {},
   "source": [
    "Both players choose the same strategy, which is never cooperating.\n",
    "\n",
    "But the scores are not very high. \n",
    "We recall that if both were cooperating at each turn, they would both get 140."
   ]
  },
  {
   "cell_type": "markdown",
   "metadata": {},
   "source": [
    "## 3.2 Softmax selection "
   ]
  },
  {
   "cell_type": "code",
   "execution_count": 22,
   "metadata": {},
   "outputs": [],
   "source": [
    "tables = [numpy.zeros((env.num_of_players,2)) for player in env.player]\n",
    "for table in tables:\n",
    "    for i in range(table.shape[1]):\n",
    "        table[i]=[0,0]\n",
    "\n",
    "alpha = .9\n",
    "gamma = .85\n",
    "tau = 100\n",
    "numpy.random.seed(42)\n",
    "nb_iter = 100000\n",
    "scores = numpy.zeros((env.num_of_players,nb_iter))\n",
    "\n",
    "for i_episode in range(nb_iter):\n",
    "    s_t1 = env.reset()\n",
    "    \n",
    "    for t in range(10):\n",
    "        if t == 0:\n",
    "            s_t1 = [0 for player in env.player] # We start with the idea that everyone is cooperating. That is a choice.\n",
    "            \n",
    "        a_t1 = numpy.zeros(env.num_of_players, dtype = \"int\")\n",
    "        for i,player in enumerate(env.player):\n",
    "            # The only relevant information is the number of agents who chose to cooperate.\n",
    "            # We simplify the state with the number of cooperating agents.\n",
    "            # We will update a table in order to find the best action according to the number of cooperating players\n",
    "            \n",
    "            coop = env.num_of_players - 1 - (sum(s_t1) - s_t1[i])\n",
    "            p0,p1 = numpy.exp(tables[i][coop,0]/tau),numpy.exp(tables[i][coop,1]/tau)\n",
    "            if p0/(p0+p1) > numpy.random.uniform():  \n",
    "                a_t1[i] = 0\n",
    "            else:\n",
    "                a_t1[i] = 1\n",
    "\n",
    "        s_t2, r_t1, done, info = env.step(a_t1)\n",
    "        for i,player in enumerate(env.player):\n",
    "            tab = tables[i]\n",
    "            coop_t1, coop_t2 = env.num_of_players - 1 - (sum(s_t1) - s_t1[i]), env.num_of_players - 1 -(sum(s_t2) - s_t2[i])\n",
    "\n",
    "            tab[coop_t1][a_t1[i]] += alpha * (r_t1[i] + gamma * max(tab[coop_t2]) - tab[coop_t1][a_t1[i]])\n",
    "        s_t1 = s_t2\n",
    "            \n",
    "        if done:\n",
    "            current_scores = [player.balance for player in env.player]\n",
    "            for i,player in enumerate(env.player):\n",
    "                scores[i,i_episode] = player.utility(current_scores[i], current_scores)\n",
    "            break"
   ]
  },
  {
   "cell_type": "code",
   "execution_count": 23,
   "metadata": {},
   "outputs": [
    {
     "name": "stdout",
     "output_type": "stream",
     "text": [
      "p1\n",
      "num of cooperating players | Q-value if cooperating | Q-value if not\n",
      "            0              |    84.628986330265     | 90.31851037633925\n",
      "            1              |   87.28870140973734    | 87.27697335905442\n",
      "p2\n",
      "num of cooperating players | Q-value if cooperating | Q-value if not\n",
      "            0              |   94.33095143369592    | 97.24496068406769\n",
      "            1              |   93.46828607745053    | 94.1768786283681\n"
     ]
    }
   ],
   "source": [
    "for player, table in zip(env.player, tables):\n",
    "    print(player.name)\n",
    "    interpretation(table)"
   ]
  },
  {
   "cell_type": "markdown",
   "metadata": {},
   "source": [
    "p1 cooperates if the other has cooperated, and choose to play selfish if the other has not cooperated.\n",
    "p2 always plays selfish."
   ]
  },
  {
   "cell_type": "code",
   "execution_count": 24,
   "metadata": {},
   "outputs": [
    {
     "data": {
      "image/png": "[encoded data removed]",
      "text/plain": [
       "<Figure size 432x288 with 1 Axes>"
      ]
     },
     "metadata": {
      "needs_background": "light"
     },
     "output_type": "display_data"
    }
   ],
   "source": [
    "plt.plot(list(range(1,nb_iter + 1)), scores[0,:], label = \"player 1\")\n",
    "plt.plot(list(range(1,nb_iter + 1)), scores[1,:], label = \"player 2\")\n",
    "plt.xlabel(\"number of games\")\n",
    "plt.ylabel(\"score\")\n",
    "plt.legend()\n",
    "plt.show()"
   ]
  },
  {
   "cell_type": "code",
   "execution_count": 32,
   "metadata": {},
   "outputs": [
    {
     "data": {
      "image/png": "[encoded data removed]",
      "text/plain": [
       "<Figure size 432x288 with 1 Axes>"
      ]
     },
     "metadata": {
      "needs_background": "light"
     },
     "output_type": "display_data"
    }
   ],
   "source": [
    "plt.plot(list(range(99001,nb_iter + 1)), scores[0,99000:], label = \"player 1\")\n",
    "plt.plot(list(range(99001,nb_iter + 1)), scores[1,99000:], label = \"player 2\")\n",
    "plt.xlabel(\"number of games\")\n",
    "plt.ylabel(\"score\")\n",
    "plt.legend()\n",
    "plt.show()"
   ]
  },
  {
   "cell_type": "markdown",
   "metadata": {},
   "source": [
    "We see that the scores do not converge. It is because both Q-values of an agent are very close, so both actions are almost equiprobable."
   ]
  },
  {
   "cell_type": "code",
   "execution_count": 33,
   "metadata": {},
   "outputs": [
    {
     "name": "stdout",
     "output_type": "stream",
     "text": [
      "End of the 10 turns.\n",
      " iter | p1 | p2 \n",
      "     1| 0  | 1  \n",
      "     2| 1  | 1  \n",
      "     3| 1  | 1  \n",
      "     4| 1  | 1  \n",
      "     5| 1  | 1  \n",
      "     6| 1  | 1  \n",
      "     7| 1  | 1  \n",
      "     8| 1  | 1  \n",
      "     9| 1  | 1  \n",
      "    10| 1  | 1  \n",
      "scores| 97 |107 \n",
      " util | 97 |107 \n",
      "\n",
      "p2 has won !\n"
     ]
    }
   ],
   "source": [
    "env.reset()\n",
    "\n",
    "for t in range(10):\n",
    "#     env.render()\n",
    "    if t == 0:\n",
    "        state = [0 for player in env.player] # We start with the idea that everyone is cooperating. That is a choice.\n",
    "\n",
    "    action = numpy.zeros(env.num_of_players, dtype = \"int\")\n",
    "    for i,player in enumerate(env.player):\n",
    "        coop = env.num_of_players - 1 - (sum(state) - state[i])\n",
    "        best_action = numpy.argmax(tables[i][coop])  \n",
    "        action[i] = best_action\n",
    "    \n",
    "    state, rewards, done, info = env.step(action)\n",
    "    \n",
    "    if done:\n",
    "        env.close()"
   ]
  },
  {
   "cell_type": "markdown",
   "metadata": {},
   "source": [
    "Here, p2 seems rather dumb. So p1 has the best strategy, whereas p2 has the worst one."
   ]
  },
  {
   "cell_type": "markdown",
   "metadata": {},
   "source": [
    "## 3.3 What if p2 has a constant policy ?"
   ]
  },
  {
   "cell_type": "markdown",
   "metadata": {},
   "source": [
    "A policy giving pretty good results it the following one :\n",
    "    the agent cooperates until the other one does not. Then, it never cooperates again."
   ]
  },
  {
   "cell_type": "markdown",
   "metadata": {},
   "source": [
    "### 3.3.1 $\\epsilon$-greedy selection"
   ]
  },
  {
   "cell_type": "code",
   "execution_count": 34,
   "metadata": {},
   "outputs": [],
   "source": [
    "table = numpy.zeros((env.num_of_players,2))\n",
    "alpha = .9\n",
    "gamma = .85\n",
    "epsilon = 0.5\n",
    "numpy.random.seed(42)\n",
    "nb_iter = 10000\n",
    "scores = numpy.zeros((env.num_of_players,nb_iter))\n",
    "\n",
    "for i_episode in range(nb_iter):\n",
    "    s_t1 = env.reset()\n",
    "    betrayal = False\n",
    "    \n",
    "    for t in range(10):\n",
    "\n",
    "        if t == 0:\n",
    "            s_t1 = [0 for player in env.player] # We start with the idea that everyone is cooperating. That is a choice.\n",
    "        \n",
    "        a_t1 = numpy.zeros(env.num_of_players, dtype = \"int\")\n",
    "        \n",
    "        # For the learning agent\n",
    "        coop = env.num_of_players - 1 - (sum(s_t1) - s_t1[0])\n",
    "        best_action = numpy.argmax(table[coop])\n",
    "        if 1-epsilon/(i_episode + 1) > numpy.random.uniform():  \n",
    "            a_t1[0] = best_action\n",
    "        else:\n",
    "            a_t1[0] = 1 - best_action\n",
    "            \n",
    "        # For the agent with constant policy\n",
    "        a_t1[1] = 1*betrayal\n",
    "        if a_t1[0] == 1:\n",
    "            betrayal = True\n",
    "\n",
    "        s_t2, r_t1, done, info = env.step(a_t1)\n",
    "        \n",
    "        coop_t1, coop_t2 = env.num_of_players - 1 - (sum(s_t1) - s_t1[0]), env.num_of_players - 1 -(sum(s_t2) - s_t2[0])\n",
    "        table[coop_t1][a_t1[0]] += alpha * (r_t1[0] + gamma * max(table[coop_t2]) - table[coop_t1][a_t1[0]])\n",
    "        \n",
    "        s_t1 = s_t2\n",
    "            \n",
    "        if done:\n",
    "            current_scores = [player.balance for player in env.player]\n",
    "            for i,player in enumerate(env.player):\n",
    "                scores[i,i_episode] = player.utility(current_scores[i], current_scores)\n",
    "            break"
   ]
  },
  {
   "cell_type": "code",
   "execution_count": 35,
   "metadata": {},
   "outputs": [
    {
     "name": "stdout",
     "output_type": "stream",
     "text": [
      "p1\n",
      "num of cooperating players | Q-value if cooperating | Q-value if not\n",
      "            0              |   63.666666666663616   | 66.6666666666666\n",
      "            1              |   93.33333333333329    | 69.3662954545454\n"
     ]
    }
   ],
   "source": [
    "print(\"p1\")\n",
    "interpretation(table)"
   ]
  },
  {
   "cell_type": "markdown",
   "metadata": {},
   "source": [
    "We see that against an agent having a constant policy, our agent do learn a good strategy.\n",
    "Yet it is not the best one : it would be better to not cooperate in the last turn, but with that table our agent has no idea which turn it is. "
   ]
  },
  {
   "cell_type": "code",
   "execution_count": 37,
   "metadata": {},
   "outputs": [
    {
     "data": {
      "image/png": "[encoded data removed]",
      "text/plain": [
       "<Figure size 432x288 with 1 Axes>"
      ]
     },
     "metadata": {
      "needs_background": "light"
     },
     "output_type": "display_data"
    }
   ],
   "source": [
    "plt.plot(list(range(1,nb_iter + 1)), scores[0,:], label = \"player 1\")\n",
    "plt.plot(list(range(1,nb_iter + 1)), scores[1,:], label = \"player 2\")\n",
    "plt.xlabel(\"number of games\")\n",
    "plt.ylabel(\"score\")\n",
    "plt.legend()\n",
    "plt.show()"
   ]
  },
  {
   "cell_type": "code",
   "execution_count": 16,
   "metadata": {},
   "outputs": [
    {
     "name": "stdout",
     "output_type": "stream",
     "text": [
      "End of the 10 turns.\n",
      " iter | p1 | p2 \n",
      "     1| 0  | 0  \n",
      "     2| 0  | 0  \n",
      "     3| 0  | 0  \n",
      "     4| 0  | 0  \n",
      "     5| 0  | 0  \n",
      "     6| 0  | 0  \n",
      "     7| 0  | 0  \n",
      "     8| 0  | 0  \n",
      "     9| 0  | 0  \n",
      "    10| 0  | 0  \n",
      "scores|140 |140 \n",
      " util |140 |140 \n",
      "\n",
      "p1 has won !\n"
     ]
    }
   ],
   "source": [
    "env.reset()\n",
    "betrayal = False\n",
    "\n",
    "for t in range(10):\n",
    "    \n",
    "    if t == 0:\n",
    "        state = [0 for player in env.player] # We start with the idea that everyone is cooperating. That is a choice.\n",
    "\n",
    "    action = numpy.zeros(env.num_of_players, dtype = \"int\")\n",
    "    coop = env.num_of_players - 1 - (sum(state) - state[0])\n",
    "    best_action = numpy.argmax(table[coop])  \n",
    "    action[0] = best_action\n",
    "    action[1] = 1*betrayal\n",
    "    if action[0] == 1:\n",
    "        betrayal = True\n",
    "    \n",
    "    state, rewards, done, info = env.step(action)\n",
    "    \n",
    "    if done:\n",
    "        env.close()"
   ]
  },
  {
   "cell_type": "markdown",
   "metadata": {},
   "source": [
    "### 3.3.2 Softmax-selection"
   ]
  },
  {
   "cell_type": "code",
   "execution_count": 38,
   "metadata": {},
   "outputs": [],
   "source": [
    "table = numpy.zeros((env.num_of_players,2))\n",
    "alpha = .9\n",
    "gamma = .85\n",
    "tau = 5\n",
    "numpy.random.seed(42)\n",
    "nb_iter = 10000\n",
    "scores = numpy.zeros((env.num_of_players,nb_iter))\n",
    "\n",
    "for i_episode in range(nb_iter):\n",
    "    s_t1 = env.reset()\n",
    "    betrayal = False\n",
    "    \n",
    "    for t in range(10):\n",
    "#         env.render()\n",
    "        if t == 0:\n",
    "            s_t1 = [0 for player in env.player] # We start with the idea that everyone is cooperating. That is a choice.\n",
    "            \n",
    "        a_t1 = numpy.zeros(env.num_of_players, dtype = \"int\")\n",
    "        \n",
    "        # Learning agent\n",
    "        coop = env.num_of_players - 1 - (sum(s_t1) - s_t1[0])\n",
    "        p0,p1 = numpy.exp(table[coop,0]/tau),numpy.exp(table[coop,1]/tau)\n",
    "        if p0/(p0+p1) > numpy.random.uniform():  \n",
    "            a_t1[0] = 0\n",
    "        else:\n",
    "            a_t1[0] = 1\n",
    "            \n",
    "        # Other one\n",
    "        a_t1[1] = 1*betrayal\n",
    "        \n",
    "        if a_t1[0] == 1:\n",
    "            betrayal = True\n",
    "        \n",
    "        s_t2, r_t1, done, info = env.step(a_t1)\n",
    "        coop_t1, coop_t2 = env.num_of_players - 1 - (sum(s_t1) - s_t1[0]), env.num_of_players - 1 -(sum(s_t2) - s_t2[0])\n",
    "\n",
    "        table[coop_t1][a_t1[0]] += alpha * (r_t1[0] + gamma * max(table[coop_t2]) - table[coop_t1][a_t1[0]])\n",
    "        s_t1 = s_t2\n",
    "            \n",
    "        if done:\n",
    "            current_scores = [player.balance for player in env.player]\n",
    "            for i,player in enumerate(env.player):\n",
    "                scores[i,i_episode] = player.utility(current_scores[i], current_scores)\n",
    "            break"
   ]
  },
  {
   "cell_type": "code",
   "execution_count": 39,
   "metadata": {},
   "outputs": [
    {
     "name": "stdout",
     "output_type": "stream",
     "text": [
      "p1\n",
      "num of cooperating players | Q-value if cooperating | Q-value if not\n",
      "            0              |          0.0           | 66.6666666666666\n",
      "            1              |   93.33333333333329    | 69.36362932787895\n"
     ]
    }
   ],
   "source": [
    "print(\"p1\")\n",
    "interpretation(table)"
   ]
  },
  {
   "cell_type": "code",
   "execution_count": 40,
   "metadata": {},
   "outputs": [
    {
     "data": {
      "image/png": "[encoded data removed]",
      "text/plain": [
       "<Figure size 432x288 with 1 Axes>"
      ]
     },
     "metadata": {
      "needs_background": "light"
     },
     "output_type": "display_data"
    }
   ],
   "source": [
    "plt.plot(list(range(1,nb_iter + 1)), scores[0,:], label = \"player 1\")\n",
    "plt.plot(list(range(1,nb_iter + 1)), scores[1,:], label = \"player 2\")\n",
    "plt.xlabel(\"number of games\")\n",
    "plt.ylabel(\"score\")\n",
    "plt.legend()\n",
    "plt.show()"
   ]
  },
  {
   "cell_type": "markdown",
   "metadata": {},
   "source": [
    "Softmax-selection requires to fine-tune $\\tau$. If $\\tau$ is small enough, our agent learn the best possible behaviour."
   ]
  },
  {
   "cell_type": "code",
   "execution_count": 41,
   "metadata": {},
   "outputs": [
    {
     "name": "stdout",
     "output_type": "stream",
     "text": [
      "End of the 10 turns.\n",
      " iter | p1 | p2 \n",
      "     1| 0  | 0  \n",
      "     2| 0  | 0  \n",
      "     3| 0  | 0  \n",
      "     4| 0  | 0  \n",
      "     5| 0  | 0  \n",
      "     6| 0  | 0  \n",
      "     7| 0  | 0  \n",
      "     8| 0  | 0  \n",
      "     9| 0  | 0  \n",
      "    10| 0  | 0  \n",
      "scores|140 |140 \n",
      " util |140 |140 \n",
      "\n",
      "p1 has won !\n"
     ]
    }
   ],
   "source": [
    "env.reset()\n",
    "betrayal = False\n",
    "\n",
    "for t in range(10):\n",
    "    \n",
    "    if t == 0:\n",
    "        state = [0 for player in env.player] # We start with the idea that everyone is cooperating. That is a choice.\n",
    "\n",
    "    action = numpy.zeros(env.num_of_players, dtype = \"int\")\n",
    "    coop = env.num_of_players - 1 - (sum(state) - state[0])\n",
    "    best_action = numpy.argmax(table[coop])  \n",
    "    action[0] = best_action\n",
    "    action[1] = 1*betrayal\n",
    "    if action[0] == 1:\n",
    "        betrayal = True\n",
    "    \n",
    "    state, rewards, done, info = env.step(action)\n",
    "    \n",
    "    if done:\n",
    "        env.close()"
   ]
  },
  {
   "cell_type": "markdown",
   "metadata": {},
   "source": [
    "## 3.4 With a bigger table, covering all possibilities (for a game with only 2 players)."
   ]
  },
  {
   "cell_type": "code",
   "execution_count": 21,
   "metadata": {},
   "outputs": [
    {
     "name": "stderr",
     "output_type": "stream",
     "text": [
      "ERROR:root:Internal Python error in the inspect module.\n",
      "Below is the traceback from this internal error.\n",
      "\n"
     ]
    },
    {
     "name": "stdout",
     "output_type": "stream",
     "text": [
      "Traceback (most recent call last):\n",
      "  File \"/home/weber/anaconda3/lib/python3.7/site-packages/IPython/core/interactiveshell.py\", line 3296, in run_code\n",
      "    exec(code_obj, self.user_global_ns, self.user_ns)\n",
      "  File \"<ipython-input-21-e14cb17dcedf>\", line 46, in <module>\n",
      "    scores[i,i_episode] = player.utility(current_scores[i], current_scores)\n",
      "  File \"/home/weber/Bureau/Projet/INF581/gym-foo/gym_foo/envs/foo_env.py\", line 57, in utility\n",
      "    return score**self.alpha * bonus**(1-self.alpha)\n",
      "KeyboardInterrupt\n",
      "\n",
      "During handling of the above exception, another exception occurred:\n",
      "\n",
      "Traceback (most recent call last):\n",
      "  File \"/home/weber/anaconda3/lib/python3.7/site-packages/IPython/core/interactiveshell.py\", line 2033, in showtraceback\n",
      "    stb = value._render_traceback_()\n",
      "AttributeError: 'KeyboardInterrupt' object has no attribute '_render_traceback_'\n",
      "\n",
      "During handling of the above exception, another exception occurred:\n",
      "\n",
      "Traceback (most recent call last):\n",
      "  File \"/home/weber/anaconda3/lib/python3.7/site-packages/IPython/core/ultratb.py\", line 1095, in get_records\n",
      "    return _fixed_getinnerframes(etb, number_of_lines_of_context, tb_offset)\n",
      "  File \"/home/weber/anaconda3/lib/python3.7/site-packages/IPython/core/ultratb.py\", line 313, in wrapped\n",
      "    return f(*args, **kwargs)\n",
      "  File \"/home/weber/anaconda3/lib/python3.7/site-packages/IPython/core/ultratb.py\", line 347, in _fixed_getinnerframes\n",
      "    records = fix_frame_records_filenames(inspect.getinnerframes(etb, context))\n",
      "  File \"/home/weber/anaconda3/lib/python3.7/inspect.py\", line 1502, in getinnerframes\n",
      "    frameinfo = (tb.tb_frame,) + getframeinfo(tb, context)\n",
      "  File \"/home/weber/anaconda3/lib/python3.7/inspect.py\", line 1460, in getframeinfo\n",
      "    filename = getsourcefile(frame) or getfile(frame)\n",
      "  File \"/home/weber/anaconda3/lib/python3.7/inspect.py\", line 696, in getsourcefile\n",
      "    if getattr(getmodule(object, filename), '__loader__', None) is not None:\n",
      "  File \"/home/weber/anaconda3/lib/python3.7/inspect.py\", line 742, in getmodule\n",
      "    os.path.realpath(f)] = module.__name__\n",
      "  File \"/home/weber/anaconda3/lib/python3.7/posixpath.py\", line 395, in realpath\n",
      "    path, ok = _joinrealpath(filename[:0], filename, {})\n",
      "  File \"/home/weber/anaconda3/lib/python3.7/posixpath.py\", line 429, in _joinrealpath\n",
      "    if not islink(newpath):\n",
      "  File \"/home/weber/anaconda3/lib/python3.7/posixpath.py\", line 174, in islink\n",
      "    return stat.S_ISLNK(st.st_mode)\n",
      "KeyboardInterrupt\n"
     ]
    },
    {
     "ename": "KeyboardInterrupt",
     "evalue": "",
     "output_type": "error",
     "traceback": [
      "\u001b[0;31m---------------------------------------------------------------------------\u001b[0m"
     ]
    }
   ],
   "source": [
    "observation = numpy.zeros((env.num_of_games,env.num_of_players))\n",
    "p = 2*env.num_of_players\n",
    "table = numpy.zeros(2*(p**(env.num_of_games)-1)//(p-1),dtype=\"int\")\n",
    "alpha = .9\n",
    "gamma = .85\n",
    "epsilon = 0.2\n",
    "numpy.random.seed(42)\n",
    "nb_iter = 100000\n",
    "scores = numpy.zeros((env.num_of_players,nb_iter))\n",
    "\n",
    "action = numpy.zeros(env.num_of_players, dtype = \"int\")\n",
    "\n",
    "for i_episode in range(nb_iter):\n",
    "    state = env.reset()\n",
    "    betrayal = False\n",
    "    \n",
    "    for t in range(env.num_of_games):\n",
    "        \n",
    "        # For the learning agent\n",
    "        case = int(2*(4**t-1)//3+2*sum([obs*2**i for i,obs in enumerate(observation[:t].ravel())])) # First case corresponding to the situation\n",
    "        # The second one if just the following one\n",
    "        best_action = numpy.argmax(table[case:case+2])\n",
    "        if 1-epsilon > numpy.random.uniform():  \n",
    "            action[0] = best_action\n",
    "            case += best_action\n",
    "        else:\n",
    "            action[0] = 1 - best_action\n",
    "            case += 1-best_action\n",
    "            \n",
    "        # For the agent with constant policy\n",
    "        action[1] = 1*betrayal\n",
    "        if action[0] == 1:\n",
    "            betrayal = True\n",
    "\n",
    "        state, reward, done, info = env.step(action)\n",
    "        observation[t,:] = state.copy()\n",
    "        \n",
    "        case2 = int(2*(4**(t+1)-1)//3+2*sum([obs*2**i for i,obs in enumerate(observation[:t+1].ravel())]))\n",
    "        if t < env.num_of_games-1:\n",
    "            table[case] += alpha * (reward[0] + gamma * max(table[case2:case2+2]) - table[case])\n",
    "        else:\n",
    "            table[case] += alpha * reward[0]\n",
    "            \n",
    "        if done:\n",
    "            current_scores = [player.balance for player in env.player]\n",
    "            for i,player in enumerate(env.player):\n",
    "                scores[i,i_episode] = player.utility(current_scores[i], current_scores)\n",
    "            break"
   ]
  },
  {
   "cell_type": "code",
   "execution_count": null,
   "metadata": {},
   "outputs": [],
   "source": [
    "observation = numpy.zeros((env.num_of_games,env.num_of_players))\n",
    "p = 2*env.num_of_players\n",
    "numpy.random.seed(42)\n",
    "\n",
    "action = numpy.zeros(env.num_of_players, dtype = \"int\")\n",
    "\n",
    "state = env.reset()\n",
    "betrayal = False\n",
    "\n",
    "for t in range(env.num_of_games):\n",
    "\n",
    "    # For the learning agent\n",
    "    case = int(2*(4**t-1)//3+2*sum([obs*2**i for i,obs in enumerate(observation[:t].ravel())]))\n",
    "    action[0] = numpy.argmax(table[case:case+2])\n",
    "    case += action[0]\n",
    "\n",
    "    # For the agent with constant policy\n",
    "    action[1] = 1*betrayal\n",
    "    if action[0] == 1:\n",
    "        betrayal = True\n",
    "\n",
    "    state, reward, done, info = env.step(action)\n",
    "    observation[t,:] = state.copy()\n",
    "\n",
    "    if done:\n",
    "        env.render()"
   ]
  },
  {
   "cell_type": "markdown",
   "metadata": {},
   "source": [
    "If we want to see what happens whith wo learning agents :"
   ]
  },
  {
   "cell_type": "code",
   "execution_count": null,
   "metadata": {},
   "outputs": [],
   "source": [
    "observation_p1 = numpy.zeros((env.num_of_games,env.num_of_players))\n",
    "observation_p2 = numpy.zeros((env.num_of_games,env.num_of_players))\n",
    "p = 2*env.num_of_players\n",
    "table_p1 = numpy.zeros(2*(p**(env.num_of_games)-1)//(p-1),dtype=\"int\")\n",
    "table_p2 = numpy.zeros(2*(p**(env.num_of_games)-1)//(p-1),dtype=\"int\")\n",
    "alpha = .5\n",
    "gamma = .85\n",
    "epsilon = 0.2\n",
    "numpy.random.seed(42)\n",
    "nb_iter = 1000000\n",
    "scores = numpy.zeros((env.num_of_players,nb_iter))\n",
    "\n",
    "action = numpy.zeros(env.num_of_players, dtype = \"int\")\n",
    "\n",
    "for i_episode in range(nb_iter):\n",
    "    state = env.reset()\n",
    "    if i_episode % (nb_iter//100) == 0:\n",
    "        print(i_episode//(nb_iter//100))\n",
    "    \n",
    "    for t in range(env.num_of_games):\n",
    "        \n",
    "        # For p1\n",
    "        case1_p1 = int(2*(4**t-1)//3+2*sum([obs*2**i for i,obs in enumerate(observation[:t].ravel())]))\n",
    "        best_action_p1 = numpy.argmax(table[case1_p1:case1_p1+2])\n",
    "        if 1-epsilon > numpy.random.uniform():  \n",
    "            action[0] = best_action_p1\n",
    "            case1_p1 += best_action_p1\n",
    "        else:\n",
    "            action[0] = 1 - best_action_p1\n",
    "            case1_p1 += 1-best_action_p1\n",
    "            \n",
    "        # For the agent with constant policy\n",
    "        case1_p2 = int(2*(4**t-1)//3+2*sum([obs*2**i for i,obs in enumerate(observation[:t].ravel())]))\n",
    "        best_action_p2 = numpy.argmax(table[case1_p2:case1_p2+2])\n",
    "        if 1-epsilon > numpy.random.uniform():  \n",
    "            action[1] = best_action_p2\n",
    "            case1_p2 += best_action_p2\n",
    "        else:\n",
    "            action[1] = 1 - best_action_p2\n",
    "            case1_p2 += 1-best_action_p2\n",
    "\n",
    "        state, reward, done, info = env.step(action)\n",
    "        observation[t,:] = state.copy()\n",
    "        \n",
    "        case2_p1 = int(2*(4**(t+1)-1)//3+2*sum([obs*2**i for i,obs in enumerate(observation[:t+1].ravel())]))\n",
    "        if t < env.num_of_games-1:\n",
    "            table_p1[case1_p1] = numpy.log(numpy.exp(table_p1[case1_p1]) + alpha * (reward[0] + gamma * max(table_p1[case2_p1:case2_p1+2]) - table_p1[case1_p1]))\n",
    "        else:\n",
    "            table_p1[case1_p1] = numpy.log(reward[0])\n",
    "            \n",
    "        case2_p2 = int(2*(4**(t+1)-1)//3+2*sum([obs*2**i for i,obs in enumerate(observation[:t+1].ravel())]))\n",
    "        if t < env.num_of_games-1:\n",
    "            table_p2[case1_p2] = numpy.log(numpy.exp(table_p2[case1_p2]) + alpha * (reward[1] + gamma * max(table_p2[case2_p2:case2_p2+2]) - table_p1[case1_p2]))\n",
    "        else:\n",
    "            table_p2[case1_p2] = numpy.log(reward[1])\n",
    "            \n",
    "        if done:\n",
    "            current_scores = [player.balance for player in env.player]\n",
    "            for i,player in enumerate(env.player):\n",
    "                scores[i,i_episode] = player.utility(current_scores[i], current_scores)\n",
    "            break"
   ]
  },
  {
   "cell_type": "code",
   "execution_count": null,
   "metadata": {},
   "outputs": [],
   "source": [
    "observation = numpy.zeros((env.num_of_games,env.num_of_players))\n",
    "p = 2*env.num_of_players\n",
    "numpy.random.seed(42)\n",
    "\n",
    "action = numpy.zeros(env.num_of_players, dtype = \"int\")\n",
    "\n",
    "state = env.reset()\n",
    "\n",
    "for t in range(env.num_of_games):\n",
    "\n",
    "    # For the learning agent\n",
    "    case_p1 = int(2*(4**t-1)//3+2*sum([obs*2**i for i,obs in enumerate(observation[:t].ravel())]))\n",
    "    action[0] = numpy.argmax(table_p1[case_p1:case_p1+2])\n",
    "    case_p1 += action[0]\n",
    "\n",
    "    # For the agent with constant policy\n",
    "    case_p2 = int(2*(4**t-1)//3+2*sum([obs*2**i for i,obs in enumerate(observation[:t].ravel())]))\n",
    "    action[1] = numpy.argmax(table_p2[case_p2:case_p2+2])\n",
    "    case_p2 += action[1]\n",
    "\n",
    "    state, reward, done, info = env.step(action)\n",
    "    observation[t,:] = state.copy()\n",
    "\n",
    "    if done:\n",
    "        env.render()"
   ]
  },
  {
   "cell_type": "markdown",
   "metadata": {},
   "source": [
    "# 4. Building an agent with memory : policy-based methods"
   ]
  },
  {
   "cell_type": "markdown",
   "metadata": {},
   "source": [
    "We could create a table with the iteration to learn a better behaviour against the constant agent. <br>\n",
    "But let's say we want an agat able to imitate its behaviour : cooperating until the other one betrays, then never again.\n",
    "\n",
    "With only the iteration added, our agent will not be able to learn it.\n",
    "We could create a table with every possible policy for the other agent, but its size would be huge. And it would grow exponentially with the number of agents involved.\n",
    "\n",
    "Let's rather focus directly on the policy. We are going to try to find a good and simple parametrization for the policy.\n"
   ]
  },
  {
   "cell_type": "markdown",
   "metadata": {},
   "source": [
    "## 4.1 Parametrization"
   ]
  },
  {
   "cell_type": "markdown",
   "metadata": {},
   "source": [
    "$\\pi_i(t) = \\mathbb{1}\\{\\theta_0+\\sum_{j=1}^{t-1}\\theta_{j,1} N_j + \\theta_{j,2}\\} \\geq 0$"
   ]
  },
  {
   "cell_type": "markdown",
   "metadata": {},
   "source": [
    "We have the previous agent with $\\theta_0 = -1$, $\\forall 1 \\leq j \\leq 9, \\theta_{j,1} = 1$ and $\\forall 1 \\leq j \\leq 9, \\theta_{j,2} = 0$ , ie $$\\theta = \\begin{pmatrix} -1 & 0 \\\\ 1 & 0 \\\\ \\vdots & \\vdots\\\\ 1 & 0 \\end{pmatrix}$$\n",
    "\n",
    "And we have the agent we want with $$\\theta = \\begin{pmatrix} -1 & 0 \\\\ 1 & 0 \\\\ \\vdots & \\vdots\\\\ 1 & 0\\\\ 1 & 1 \\end{pmatrix}$$"
   ]
  },
  {
   "cell_type": "code",
   "execution_count": 2,
   "metadata": {},
   "outputs": [],
   "source": [
    "def sigma(x):\n",
    "    return 1/(1+numpy.exp(-x))"
   ]
  },
  {
   "cell_type": "code",
   "execution_count": 3,
   "metadata": {},
   "outputs": [],
   "source": [
    "theta1 = numpy.array([[-1]+[1]*(env.num_of_games-1),[0]*(env.num_of_games-1) + [1]]).T\n",
    "theta2 = numpy.array([[-1]+[1]*(env.num_of_games-1),[0]*(env.num_of_games)]).T"
   ]
  },
  {
   "cell_type": "code",
   "execution_count": 4,
   "metadata": {},
   "outputs": [],
   "source": [
    "def test(theta1 = None, theta2 = None):\n",
    "    env.reset()\n",
    "    action = numpy.zeros(env.num_of_players, dtype = \"int\") \n",
    "    N1 = numpy.concatenate([[1],[0]*(env.num_of_games-1)])\n",
    "    N2 = numpy.concatenate([[1],[0]*(env.num_of_games-1)])\n",
    "\n",
    "    for t in range(10):\n",
    "\n",
    "        if t == 0:\n",
    "            state = [0 for player in env.player] # We start with the idea that everyone is cooperating. That is a choice.\n",
    "\n",
    "        action[0] = 1*(.5 <= sigma(theta1[:t+1,0].dot(N1[:t+1]) + sum(theta1[1:t+1,1])))\n",
    "        action[1] = 1*(theta2[:t+1,0].dot(N2[:t+1]) + sum(theta2[1:t+1,1]) >= 0)\n",
    "        if t+1 < env.num_of_games:\n",
    "            N1[t+1], N2[t+1] = action[1], action[0]\n",
    "\n",
    "        state, rewards, done, info = env.step(action)\n",
    "\n",
    "        if done:\n",
    "            env.close()"
   ]
  },
  {
   "cell_type": "code",
   "execution_count": 5,
   "metadata": {},
   "outputs": [
    {
     "name": "stdout",
     "output_type": "stream",
     "text": [
      "End of the 10 turns.\n",
      " iter | p1 | p2 \n",
      "     1| 0  | 0  \n",
      "     2| 0  | 0  \n",
      "     3| 0  | 0  \n",
      "     4| 0  | 0  \n",
      "     5| 0  | 0  \n",
      "     6| 0  | 0  \n",
      "     7| 0  | 0  \n",
      "     8| 0  | 0  \n",
      "     9| 0  | 0  \n",
      "    10| 1  | 0  \n",
      "scores|143 |133 \n",
      " util |143 |133 \n",
      "\n",
      "p1 has won !\n"
     ]
    }
   ],
   "source": [
    "test(theta1 = theta1, theta2 = theta2)"
   ]
  },
  {
   "cell_type": "markdown",
   "metadata": {},
   "source": [
    "## 4.2 Policy gradient"
   ]
  },
  {
   "cell_type": "code",
   "execution_count": 6,
   "metadata": {},
   "outputs": [],
   "source": [
    "def fit(theta2 = None, nb_iter = 100, alpha = 1, decreasing = True):\n",
    "    numpy.random.seed(42)\n",
    "\n",
    "    scores = numpy.zeros((env.num_of_players,nb_iter))\n",
    "    action = numpy.zeros(env.num_of_players, dtype = \"int\")\n",
    "\n",
    "    theta1 = numpy.random.uniform(-2,2,size = 2*env.num_of_games).reshape(env.num_of_games,2)\n",
    "\n",
    "    for i_episode in range(nb_iter):\n",
    "\n",
    "        env.reset()\n",
    "        N1 = numpy.concatenate([[1],[0]*(env.num_of_games-1)])\n",
    "        N2 = numpy.concatenate([[1],[0]*(env.num_of_games-1)])\n",
    "        R = list(range(env.num_of_games))\n",
    "\n",
    "        for t in range(10):              \n",
    "\n",
    "            # Learning agent\n",
    "            action[0] = 1*(numpy.random.uniform() < sigma(theta1[:t+1,0].dot(N1[:t+1]) + sum(theta1[1:t+1,1]))) # So we can use what is done in course 7\n",
    "            action[1] = 1*(theta2[:t+1,0].dot(N2[:t+1]) + sum(theta2[1:t+1,1]) >= 0)\n",
    "\n",
    "            if t+1 < env.num_of_games:\n",
    "                N1[t+1],N2[t+1] = action[1],action[0]\n",
    "\n",
    "            state, reward, done, info = env.step(action)\n",
    "            R[t] = reward[0]-env.num_of_players*env.collective_reward # If we do not substract that, then R is always positive and this method would not be able to converge\n",
    "            \n",
    "            if done:\n",
    "                current_scores = [player.balance for player in env.player]\n",
    "                for i,player in enumerate(env.player):\n",
    "                    scores[i,i_episode] = player.utility(current_scores[i], current_scores)\n",
    "                break\n",
    "        # Learning phase\n",
    "        for t in range(env.num_of_games):\n",
    "            prev_norm = numpy.sqrt(numpy.sum(theta1**2))\n",
    "            theta1 += alpha/numpy.sqrt(1+i_episode*decreasing) * R[t] * (1-sigma(theta1[:t+1,0].dot(N1[:t+1])))*numpy.concatenate([N1,[0]+[1]*t+[0]*(env.num_of_games-1-t)]).reshape(2,env.num_of_games).T\n",
    "            new_norm = numpy.sqrt(numpy.sum(theta1**2))\n",
    "            theta1 *= prev_norm/new_norm\n",
    "    \n",
    "    return theta1, scores"
   ]
  },
  {
   "cell_type": "code",
   "execution_count": 7,
   "metadata": {},
   "outputs": [],
   "source": [
    "def fit_test(theta2 = None, nb_iter = 100, alpha = 1, decreasing = True):\n",
    "    theta1, scores = fit(theta2, nb_iter, alpha, decreasing)\n",
    "    \n",
    "    plt.plot(list(range(1,nb_iter + 1)), scores[0,:], label = \"player 1\")\n",
    "    plt.plot(list(range(1,nb_iter + 1)), scores[1,:], label = \"player 2\")\n",
    "    plt.xlabel(\"number of games\")\n",
    "    plt.ylabel(\"score\")\n",
    "    plt.legend()\n",
    "    plt.show()\n",
    "    \n",
    "    test(theta1 = theta1, theta2 = theta2)"
   ]
  },
  {
   "cell_type": "code",
   "execution_count": 8,
   "metadata": {},
   "outputs": [
    {
     "ename": "UnboundLocalError",
     "evalue": "local variable 'i' referenced before assignment",
     "output_type": "error",
     "traceback": [
      "\u001b[0;31m---------------------------------------------------------------------------\u001b[0m",
      "\u001b[0;31mUnboundLocalError\u001b[0m                         Traceback (most recent call last)",
      "\u001b[0;32m<ipython-input-8-d1dec6cca49c>\u001b[0m in \u001b[0;36m<module>\u001b[0;34m\u001b[0m\n\u001b[0;32m----> 1\u001b[0;31m \u001b[0mfit_test\u001b[0m\u001b[0;34m(\u001b[0m\u001b[0mtheta2\u001b[0m \u001b[0;34m=\u001b[0m \u001b[0mnumpy\u001b[0m\u001b[0;34m.\u001b[0m\u001b[0marray\u001b[0m\u001b[0;34m(\u001b[0m\u001b[0;34m[\u001b[0m\u001b[0;34m[\u001b[0m\u001b[0;34m-\u001b[0m\u001b[0;36m1\u001b[0m\u001b[0;34m]\u001b[0m\u001b[0;34m+\u001b[0m\u001b[0;34m[\u001b[0m\u001b[0;36m1\u001b[0m\u001b[0;34m]\u001b[0m\u001b[0;34m*\u001b[0m\u001b[0;34m(\u001b[0m\u001b[0menv\u001b[0m\u001b[0;34m.\u001b[0m\u001b[0mnum_of_games\u001b[0m\u001b[0;34m-\u001b[0m\u001b[0;36m1\u001b[0m\u001b[0;34m)\u001b[0m\u001b[0;34m,\u001b[0m\u001b[0;34m[\u001b[0m\u001b[0;36m0\u001b[0m\u001b[0;34m]\u001b[0m\u001b[0;34m*\u001b[0m\u001b[0;34m(\u001b[0m\u001b[0menv\u001b[0m\u001b[0;34m.\u001b[0m\u001b[0mnum_of_games\u001b[0m\u001b[0;34m)\u001b[0m\u001b[0;34m]\u001b[0m\u001b[0;34m)\u001b[0m\u001b[0;34m.\u001b[0m\u001b[0mT\u001b[0m\u001b[0;34m)\u001b[0m\u001b[0;34m\u001b[0m\u001b[0;34m\u001b[0m\u001b[0m\n\u001b[0m",
      "\u001b[0;32m<ipython-input-7-dcd4da25b70c>\u001b[0m in \u001b[0;36mfit_test\u001b[0;34m(theta2, nb_iter, alpha, decreasing)\u001b[0m\n\u001b[1;32m      1\u001b[0m \u001b[0;32mdef\u001b[0m \u001b[0mfit_test\u001b[0m\u001b[0;34m(\u001b[0m\u001b[0mtheta2\u001b[0m \u001b[0;34m=\u001b[0m \u001b[0;32mNone\u001b[0m\u001b[0;34m,\u001b[0m \u001b[0mnb_iter\u001b[0m \u001b[0;34m=\u001b[0m \u001b[0;36m100\u001b[0m\u001b[0;34m,\u001b[0m \u001b[0malpha\u001b[0m \u001b[0;34m=\u001b[0m \u001b[0;36m1\u001b[0m\u001b[0;34m,\u001b[0m \u001b[0mdecreasing\u001b[0m \u001b[0;34m=\u001b[0m \u001b[0;32mTrue\u001b[0m\u001b[0;34m)\u001b[0m\u001b[0;34m:\u001b[0m\u001b[0;34m\u001b[0m\u001b[0;34m\u001b[0m\u001b[0m\n\u001b[0;32m----> 2\u001b[0;31m     \u001b[0mtheta1\u001b[0m\u001b[0;34m,\u001b[0m \u001b[0mscores\u001b[0m \u001b[0;34m=\u001b[0m \u001b[0mfit\u001b[0m\u001b[0;34m(\u001b[0m\u001b[0mtheta2\u001b[0m\u001b[0;34m,\u001b[0m \u001b[0mnb_iter\u001b[0m\u001b[0;34m,\u001b[0m \u001b[0malpha\u001b[0m\u001b[0;34m,\u001b[0m \u001b[0mdecreasing\u001b[0m\u001b[0;34m)\u001b[0m\u001b[0;34m\u001b[0m\u001b[0;34m\u001b[0m\u001b[0m\n\u001b[0m\u001b[1;32m      3\u001b[0m \u001b[0;34m\u001b[0m\u001b[0m\n\u001b[1;32m      4\u001b[0m     \u001b[0mplt\u001b[0m\u001b[0;34m.\u001b[0m\u001b[0mplot\u001b[0m\u001b[0;34m(\u001b[0m\u001b[0mlist\u001b[0m\u001b[0;34m(\u001b[0m\u001b[0mrange\u001b[0m\u001b[0;34m(\u001b[0m\u001b[0;36m1\u001b[0m\u001b[0;34m,\u001b[0m\u001b[0mnb_iter\u001b[0m \u001b[0;34m+\u001b[0m \u001b[0;36m1\u001b[0m\u001b[0;34m)\u001b[0m\u001b[0;34m)\u001b[0m\u001b[0;34m,\u001b[0m \u001b[0mscores\u001b[0m\u001b[0;34m[\u001b[0m\u001b[0;36m0\u001b[0m\u001b[0;34m,\u001b[0m\u001b[0;34m:\u001b[0m\u001b[0;34m]\u001b[0m\u001b[0;34m,\u001b[0m \u001b[0mlabel\u001b[0m \u001b[0;34m=\u001b[0m \u001b[0;34m\"player 1\"\u001b[0m\u001b[0;34m)\u001b[0m\u001b[0;34m\u001b[0m\u001b[0;34m\u001b[0m\u001b[0m\n\u001b[1;32m      5\u001b[0m     \u001b[0mplt\u001b[0m\u001b[0;34m.\u001b[0m\u001b[0mplot\u001b[0m\u001b[0;34m(\u001b[0m\u001b[0mlist\u001b[0m\u001b[0;34m(\u001b[0m\u001b[0mrange\u001b[0m\u001b[0;34m(\u001b[0m\u001b[0;36m1\u001b[0m\u001b[0;34m,\u001b[0m\u001b[0mnb_iter\u001b[0m \u001b[0;34m+\u001b[0m \u001b[0;36m1\u001b[0m\u001b[0;34m)\u001b[0m\u001b[0;34m)\u001b[0m\u001b[0;34m,\u001b[0m \u001b[0mscores\u001b[0m\u001b[0;34m[\u001b[0m\u001b[0;36m1\u001b[0m\u001b[0;34m,\u001b[0m\u001b[0;34m:\u001b[0m\u001b[0;34m]\u001b[0m\u001b[0;34m,\u001b[0m \u001b[0mlabel\u001b[0m \u001b[0;34m=\u001b[0m \u001b[0;34m\"player 2\"\u001b[0m\u001b[0;34m)\u001b[0m\u001b[0;34m\u001b[0m\u001b[0;34m\u001b[0m\u001b[0m\n",
      "\u001b[0;32m<ipython-input-6-837e0ecadba0>\u001b[0m in \u001b[0;36mfit\u001b[0;34m(theta2, nb_iter, alpha, decreasing)\u001b[0m\n\u001b[1;32m     24\u001b[0m \u001b[0;34m\u001b[0m\u001b[0m\n\u001b[1;32m     25\u001b[0m             \u001b[0mstate\u001b[0m\u001b[0;34m,\u001b[0m \u001b[0mreward\u001b[0m\u001b[0;34m,\u001b[0m \u001b[0mdone\u001b[0m\u001b[0;34m,\u001b[0m \u001b[0minfo\u001b[0m \u001b[0;34m=\u001b[0m \u001b[0menv\u001b[0m\u001b[0;34m.\u001b[0m\u001b[0mstep\u001b[0m\u001b[0;34m(\u001b[0m\u001b[0maction\u001b[0m\u001b[0;34m)\u001b[0m\u001b[0;34m\u001b[0m\u001b[0;34m\u001b[0m\u001b[0m\n\u001b[0;32m---> 26\u001b[0;31m             \u001b[0mR\u001b[0m\u001b[0;34m[\u001b[0m\u001b[0mi\u001b[0m\u001b[0;34m]\u001b[0m \u001b[0;34m=\u001b[0m \u001b[0mreward\u001b[0m\u001b[0;34m[\u001b[0m\u001b[0;36m0\u001b[0m\u001b[0;34m]\u001b[0m\u001b[0;34m-\u001b[0m\u001b[0menv\u001b[0m\u001b[0;34m.\u001b[0m\u001b[0mnum_of_players\u001b[0m\u001b[0;34m*\u001b[0m\u001b[0menv\u001b[0m\u001b[0;34m.\u001b[0m\u001b[0mcollective_reward\u001b[0m \u001b[0;31m# If we do not substract that, then R is always positive and this method would not be able to converge\u001b[0m\u001b[0;34m\u001b[0m\u001b[0;34m\u001b[0m\u001b[0m\n\u001b[0m\u001b[1;32m     27\u001b[0m \u001b[0;34m\u001b[0m\u001b[0m\n\u001b[1;32m     28\u001b[0m             \u001b[0;32mif\u001b[0m \u001b[0mdone\u001b[0m\u001b[0;34m:\u001b[0m\u001b[0;34m\u001b[0m\u001b[0;34m\u001b[0m\u001b[0m\n",
      "\u001b[0;31mUnboundLocalError\u001b[0m: local variable 'i' referenced before assignment"
     ]
    }
   ],
   "source": [
    "fit_test(theta2 = numpy.array([[-1]+[1]*(env.num_of_games-1),[0]*(env.num_of_games)]).T)"
   ]
  },
  {
   "cell_type": "code",
   "execution_count": 51,
   "metadata": {},
   "outputs": [
    {
     "data": {
      "image/png": "[encoded data removed]",
      "text/plain": [
       "<Figure size 432x288 with 1 Axes>"
      ]
     },
     "metadata": {
      "needs_background": "light"
     },
     "output_type": "display_data"
    },
    {
     "name": "stdout",
     "output_type": "stream",
     "text": [
      "End of the 10 turns.\n",
      " iter | p1 | p2 \n",
      "     1| 0  | 0  \n",
      "     2| 0  | 0  \n",
      "     3| 0  | 0  \n",
      "     4| 0  | 0  \n",
      "     5| 0  | 0  \n",
      "     6| 0  | 0  \n",
      "     7| 0  | 0  \n",
      "     8| 0  | 0  \n",
      "     9| 0  | 0  \n",
      "    10| 0  | 1  \n",
      "scores|133 |143 \n",
      " util |133 |143 \n",
      "\n",
      "p2 has won !\n"
     ]
    }
   ],
   "source": [
    "fit_test(theta2 = numpy.array([[-1]+[1]*(env.num_of_games-1),[0]*(env.num_of_games-1)+[1]]).T)"
   ]
  },
  {
   "cell_type": "markdown",
   "metadata": {},
   "source": [
    "A problem with this method is that here, $\\nabla_{\\theta}J(\\theta)$ has either all its coefficient positive or negative."
   ]
  },
  {
   "cell_type": "markdown",
   "metadata": {},
   "source": [
    "Against another opponent ? (e.g. cooperating in the first five turns)"
   ]
  },
  {
   "cell_type": "code",
   "execution_count": null,
   "metadata": {},
   "outputs": [],
   "source": [
    "fit_test(theta2 = numpy.array([[-1]+[0]*(env.num_of_games-1),[0]*(env.num_of_games//2)+[1]*(env.num_of_games-env.num_of_games//2)]).T)"
   ]
  },
  {
   "cell_type": "markdown",
   "metadata": {},
   "source": [
    "Let's try to change our parametrization so that $\\nabla_{\\theta}J(\\theta)$ can contain positive and negative values."
   ]
  },
  {
   "cell_type": "markdown",
   "metadata": {},
   "source": [
    "From now on, $N'_i = -1$ if every other agent have cooperated and $N'_i = \\frac{N_i}{N-1}$ where $N$ is the number of players. We remind the reader that $N_i$ is the number of players who have not cooperated **among** the other players."
   ]
  },
  {
   "cell_type": "code",
   "execution_count": null,
   "metadata": {},
   "outputs": [],
   "source": [
    "def test(theta1 = None, theta2 = None):\n",
    "    env.reset()\n",
    "    action = numpy.zeros(env.num_of_players, dtype = \"int\") \n",
    "    N1 = numpy.concatenate([[1],[0]*(env.num_of_games-1)])\n",
    "    N2 = numpy.concatenate([[1],[0]*(env.num_of_games-1)])\n",
    "\n",
    "    for t in range(10):\n",
    "\n",
    "        if t == 0:\n",
    "            state = [0 for player in env.player] # We start with the idea that everyone is cooperating. That is a choice.\n",
    "\n",
    "        action[0] = 1*(.5 <= sigma(theta1[:t+1,0].dot(N1[:t+1]) + sum(theta1[1:t+1,1])))\n",
    "        action[1] = 1*(theta2[:t+1,0].dot(N2[:t+1]) + sum(theta2[1:t+1,1]) >= 0)\n",
    "        if t+1 < env.num_of_games:\n",
    "            N1[t+1] = 2*action[1]-1\n",
    "            N2[t+1] = 2*action[0]-1\n",
    "        state, rewards, done, info = env.step(action)\n",
    "\n",
    "        if done:\n",
    "            env.close()"
   ]
  },
  {
   "cell_type": "code",
   "execution_count": null,
   "metadata": {},
   "outputs": [],
   "source": [
    "policy1 = numpy.array([[-1]+[1]*(env.num_of_games-1),[1]*env.num_of_games]).T\n",
    "policy2 = numpy.array([[-1]+[1]*(env.num_of_games-1),[1]*(env.num_of_games-1)+[2]]).T"
   ]
  },
  {
   "cell_type": "code",
   "execution_count": null,
   "metadata": {},
   "outputs": [],
   "source": [
    "test(policy1,policy2)"
   ]
  },
  {
   "cell_type": "code",
   "execution_count": null,
   "metadata": {},
   "outputs": [],
   "source": [
    "def fit(theta2 = None, nb_iter = 100, alpha = 1, decreasing = True):\n",
    "    numpy.random.seed(42)\n",
    "\n",
    "    scores = numpy.zeros((env.num_of_players,nb_iter))\n",
    "    action = numpy.zeros(env.num_of_players, dtype = \"int\")\n",
    "\n",
    "    theta1 = numpy.random.uniform(-2,2,size = 2*env.num_of_games).reshape(env.num_of_games,2)\n",
    "\n",
    "    for i_episode in range(nb_iter):\n",
    "\n",
    "        env.reset()\n",
    "        N1 = numpy.concatenate([[1],[0]*(env.num_of_games-1)])\n",
    "        N2 = numpy.concatenate([[1],[0]*(env.num_of_games-1)])\n",
    "        R = 0\n",
    "\n",
    "        for t in range(10):              \n",
    "\n",
    "            # Learning agent\n",
    "            action[0] = 1*(numpy.random.uniform() < sigma(theta1[:t+1,0].dot(N1[:t+1]) + sum(theta1[1:t+1,1]))) # So we can use what is done in course 7\n",
    "            action[1] = 1*(theta2[:t+1,0].dot(N2[:t+1]) + sum(theta2[1:t+1,1]) >= 0)\n",
    "\n",
    "            if t+1 < env.num_of_games:\n",
    "                N1[t+1],N2[t+1] = 2*action[1]-1,2*action[0]-1\n",
    "\n",
    "            state, reward, done, info = env.step(action)\n",
    "\n",
    "            # Learning phase\n",
    "            R += reward[0]-env.num_of_players*env.collective_reward # If we do not substract that, then R is always positive and this method would not be able to converge\n",
    "            prev_norm = numpy.sqrt(numpy.sum(theta1**2))\n",
    "            theta1 += alpha/numpy.sqrt(1+i_episode*decreasing) * R * (1-sigma(theta1[:t+1,0].dot(N1[:t+1])))*numpy.concatenate([N1,[0]+[1]*t+[0]*(env.num_of_games-1-t)]).reshape(2,env.num_of_games).T\n",
    "            new_norm = numpy.sqrt(numpy.sum(theta1**2))\n",
    "            theta1 *= prev_norm/new_norm\n",
    "\n",
    "            if done:\n",
    "                current_scores = [player.balance for player in env.player]\n",
    "                for i,player in enumerate(env.player):\n",
    "                    scores[i,i_episode] = player.utility(current_scores[i], current_scores)\n",
    "                break\n",
    "    return theta1, scores"
   ]
  },
  {
   "cell_type": "code",
   "execution_count": null,
   "metadata": {},
   "outputs": [],
   "source": [
    "def fit_test(theta2 = None, nb_iter = 100, alpha = 1, decreasing = True, res = False):\n",
    "    theta1, scores = fit(theta2, nb_iter, alpha, decreasing)\n",
    "    \n",
    "    plt.plot(list(range(1,nb_iter + 1)), scores[0,:])\n",
    "    plt.plot(list(range(1,nb_iter + 1)), scores[1,:])\n",
    "    plt.show()\n",
    "    \n",
    "    test(theta1 = theta1, theta2 = theta2)\n",
    "    if res:\n",
    "        return theta1"
   ]
  },
  {
   "cell_type": "code",
   "execution_count": null,
   "metadata": {},
   "outputs": [],
   "source": [
    "fit_test(policy1)"
   ]
  },
  {
   "cell_type": "code",
   "execution_count": null,
   "metadata": {},
   "outputs": [],
   "source": [
    "fit_test(policy2)"
   ]
  },
  {
   "cell_type": "markdown",
   "metadata": {},
   "source": [
    "It is not better : the gradient is still too uniform."
   ]
  },
  {
   "cell_type": "markdown",
   "metadata": {},
   "source": [
    "## 4.3 More complex gradient with tensorflow\n",
    "*from https://gist.github.com/shanest/535acf4c62ee2a71da498281c2dfc4f4*"
   ]
  },
  {
   "cell_type": "code",
   "execution_count": 56,
   "metadata": {},
   "outputs": [],
   "source": [
    "import tensorflow as tf      # Deep Learning library"
   ]
  },
  {
   "cell_type": "code",
   "execution_count": 57,
   "metadata": {},
   "outputs": [],
   "source": [
    "class PolicyGradientAgent(object):\n",
    "\n",
    "    def __init__(self, hparams, sess):\n",
    "\n",
    "        # initialization\n",
    "        self._s = sess\n",
    "\n",
    "        # build the graph\n",
    "        self._input = tf.placeholder(tf.float32,\n",
    "                shape=[None, hparams['input_size']])\n",
    "\n",
    "        hidden1 = tf.contrib.layers.fully_connected(\n",
    "                inputs=self._input,\n",
    "                num_outputs=hparams['hidden_size'],\n",
    "                activation_fn=tf.nn.relu,\n",
    "                weights_initializer=tf.random_normal_initializer())\n",
    "        \n",
    "        hidden2 = tf.contrib.layers.fully_connected(\n",
    "                inputs=hidden1,\n",
    "                num_outputs=hparams['hidden_size'],\n",
    "                activation_fn=tf.nn.relu,\n",
    "                weights_initializer=tf.random_normal_initializer())\n",
    "            \n",
    "        hidden3= tf.contrib.layers.fully_connected(\n",
    "                inputs=hidden2,\n",
    "                num_outputs=hparams['hidden_size'],\n",
    "                activation_fn=tf.nn.relu,\n",
    "                weights_initializer=tf.random_normal_initializer())\n",
    "\n",
    "\n",
    "        logits = tf.contrib.layers.fully_connected(\n",
    "                inputs=hidden3,\n",
    "                num_outputs=hparams['num_actions'],\n",
    "                activation_fn=None)\n",
    "\n",
    "        # op to sample an action\n",
    "        self._sample = tf.reshape(tf.multinomial(logits, 1), [])\n",
    "\n",
    "        # get log probabilities\n",
    "        log_prob = tf.log(tf.nn.softmax(logits))\n",
    "\n",
    "        # training part of graph\n",
    "        self._acts = tf.placeholder(tf.int32)\n",
    "        self._advantages = tf.placeholder(tf.float32)\n",
    "\n",
    "        # get log probs of actions from episode\n",
    "        indices = tf.range(0, tf.shape(log_prob)[0]) * tf.shape(log_prob)[1] + self._acts\n",
    "        act_prob = tf.gather(tf.reshape(log_prob, [-1]), indices)\n",
    "\n",
    "        # surrogate loss\n",
    "        loss = -tf.reduce_sum(tf.multiply(act_prob, self._advantages))\n",
    "\n",
    "        # update\n",
    "        optimizer = tf.train.RMSPropOptimizer(hparams['learning_rate'])\n",
    "        self._train = optimizer.minimize(loss)\n",
    "\n",
    "    def act(self, observation):\n",
    "        # get one action, by sampling\n",
    "        return 1*(self._s.run(self._sample, feed_dict={self._input: [observation]})>0)\n",
    "\n",
    "    def train_step(self, obs, acts, advantages):\n",
    "        batch_feed = { self._input: obs, \\\n",
    "                self._acts: acts, \\\n",
    "                self._advantages: advantages }\n",
    "        self._s.run(self._train, feed_dict=batch_feed)\n",
    "\n",
    "\n",
    "def policy_rollout(env, agent):\n",
    "    \"\"\"Run one episode.\"\"\"\n",
    "\n",
    "    env.reset()\n",
    "    betrayal = False\n",
    "    action = numpy.zeros(2)\n",
    "    \n",
    "    obs = []\n",
    "    acts = []\n",
    "    rews = []\n",
    "    state = numpy.zeros((env.num_of_games,2))\n",
    "    \n",
    "    for t in range(env.num_of_games):\n",
    "        action[0] = agent.act(state.ravel())\n",
    "        action[1] = 1*betrayal\n",
    "        \n",
    "        observation, reward, done, _ = env.step(action)\n",
    "        \n",
    "        state[t,:] = 2*action[0]-1, 2*action[1]-1\n",
    "        if action[0] == 1:\n",
    "            betrayal = True\n",
    "        \n",
    "        obs.append(state.ravel().copy())\n",
    "        acts.append(action[0])\n",
    "        rews.append(reward[0])\n",
    "    return obs, acts, rews\n",
    "\n",
    "\n",
    "def process_rewards(rews):\n",
    "    \"\"\"Rewards -> Advantages for one episode. \"\"\"\n",
    "\n",
    "    # total reward: length of episode\n",
    "    return numpy.cumsum(rews)\n",
    "\n",
    "\n",
    "def learning(verbose = False):\n",
    "\n",
    "    # hyper parameters\n",
    "    hparams = {\n",
    "            'input_size': 20,\n",
    "            'hidden_size': 40,\n",
    "            'num_actions': 2,\n",
    "            'learning_rate': 0.002\n",
    "    }\n",
    "\n",
    "    # environment params\n",
    "    eparams = {\n",
    "            'num_batches': 100,\n",
    "            'ep_per_batch': 10\n",
    "    }\n",
    "\n",
    "    with tf.Graph().as_default(), tf.Session() as sess:\n",
    "\n",
    "        agent = PolicyGradientAgent(hparams, sess)\n",
    "\n",
    "        sess.run(tf.initialize_all_variables())\n",
    "\n",
    "        for batch in range(eparams['num_batches']):\n",
    "\n",
    "            if verbose:\n",
    "                print('=====\\nBATCH {}\\n===='.format(batch))\n",
    "            else:\n",
    "                print(f\"BATCH {batch}\")\n",
    "\n",
    "            b_obs, b_acts, b_rews = [], [], []\n",
    "\n",
    "            for _ in range(eparams['ep_per_batch']):\n",
    "\n",
    "                obs, acts, rews = policy_rollout(env, agent)\n",
    "                \n",
    "                if verbose:\n",
    "                    print('Episode steps: {}'.format(len(obs)))\n",
    "\n",
    "                b_obs.extend(obs)\n",
    "                b_acts.extend(acts)\n",
    "\n",
    "                advantages = process_rewards(rews)\n",
    "                b_rews.extend(advantages)\n",
    "\n",
    "            # update policy\n",
    "            # normalize rewards; don't divide by 0\n",
    "            b_rews = (b_rews - numpy.mean(b_rews)) / (numpy.std(b_rews) + 1e-10)\n",
    "\n",
    "            agent.train_step(b_obs, b_acts, b_rews)\n",
    "        env.close()"
   ]
  },
  {
   "cell_type": "code",
   "execution_count": 58,
   "metadata": {},
   "outputs": [
    {
     "name": "stderr",
     "output_type": "stream",
     "text": [
      "WARNING:tensorflow:\n",
      "The TensorFlow contrib module will not be included in TensorFlow 2.0.\n",
      "For more information, please see:\n",
      "  * https://github.com/tensorflow/community/blob/master/rfcs/20180907-contrib-sunset.md\n",
      "  * https://github.com/tensorflow/addons\n",
      "  * https://github.com/tensorflow/io (for I/O related ops)\n",
      "If you depend on functionality not listed there, please file an issue.\n",
      "\n",
      "WARNING:tensorflow:From /home/weber/anaconda3/lib/python3.7/site-packages/tensorflow_core/contrib/layers/python/layers/layers.py:1866: Layer.apply (from tensorflow.python.keras.engine.base_layer) is deprecated and will be removed in a future version.\n",
      "Instructions for updating:\n",
      "Please use `layer.__call__` method instead.\n",
      "WARNING:tensorflow:From <ipython-input-57-91bad5902ea1>:37: multinomial (from tensorflow.python.ops.random_ops) is deprecated and will be removed in a future version.\n",
      "Instructions for updating:\n",
      "Use `tf.random.categorical` instead.\n",
      "WARNING:tensorflow:From /home/weber/anaconda3/lib/python3.7/site-packages/tensorflow_core/python/training/rmsprop.py:119: calling Ones.__init__ (from tensorflow.python.ops.init_ops) with dtype is deprecated and will be removed in a future version.\n",
      "Instructions for updating:\n",
      "Call initializer instance with the dtype argument instead of passing it to the constructor\n",
      "WARNING:tensorflow:From /home/weber/anaconda3/lib/python3.7/site-packages/tensorflow_core/python/util/tf_should_use.py:198: initialize_all_variables (from tensorflow.python.ops.variables) is deprecated and will be removed after 2017-03-02.\n",
      "Instructions for updating:\n",
      "Use `tf.global_variables_initializer` instead.\n"
     ]
    },
    {
     "name": "stdout",
     "output_type": "stream",
     "text": [
      "BATCH 0\n",
      "BATCH 1\n",
      "BATCH 2\n",
      "BATCH 3\n",
      "BATCH 4\n",
      "BATCH 5\n",
      "BATCH 6\n",
      "BATCH 7\n",
      "BATCH 8\n",
      "BATCH 9\n",
      "BATCH 10\n",
      "BATCH 11\n",
      "BATCH 12\n",
      "BATCH 13\n",
      "BATCH 14\n",
      "BATCH 15\n",
      "BATCH 16\n",
      "BATCH 17\n",
      "BATCH 18\n",
      "BATCH 19\n",
      "BATCH 20\n",
      "BATCH 21\n",
      "BATCH 22\n",
      "BATCH 23\n",
      "BATCH 24\n",
      "BATCH 25\n",
      "BATCH 26\n",
      "BATCH 27\n",
      "BATCH 28\n",
      "BATCH 29\n",
      "BATCH 30\n",
      "BATCH 31\n",
      "BATCH 32\n",
      "BATCH 33\n",
      "BATCH 34\n",
      "BATCH 35\n",
      "BATCH 36\n",
      "BATCH 37\n",
      "BATCH 38\n",
      "BATCH 39\n",
      "BATCH 40\n",
      "BATCH 41\n",
      "BATCH 42\n",
      "BATCH 43\n",
      "BATCH 44\n",
      "BATCH 45\n",
      "BATCH 46\n",
      "BATCH 47\n",
      "BATCH 48\n",
      "BATCH 49\n",
      "BATCH 50\n",
      "BATCH 51\n",
      "BATCH 52\n",
      "BATCH 53\n",
      "BATCH 54\n",
      "BATCH 55\n",
      "BATCH 56\n",
      "BATCH 57\n",
      "BATCH 58\n",
      "BATCH 59\n",
      "BATCH 60\n",
      "BATCH 61\n",
      "BATCH 62\n",
      "BATCH 63\n",
      "BATCH 64\n",
      "BATCH 65\n",
      "BATCH 66\n",
      "BATCH 67\n",
      "BATCH 68\n",
      "BATCH 69\n",
      "BATCH 70\n",
      "BATCH 71\n",
      "BATCH 72\n",
      "BATCH 73\n",
      "BATCH 74\n",
      "BATCH 75\n",
      "BATCH 76\n",
      "BATCH 77\n",
      "BATCH 78\n",
      "BATCH 79\n",
      "BATCH 80\n",
      "BATCH 81\n",
      "BATCH 82\n",
      "BATCH 83\n",
      "BATCH 84\n",
      "BATCH 85\n",
      "BATCH 86\n",
      "BATCH 87\n",
      "BATCH 88\n",
      "BATCH 89\n",
      "BATCH 90\n",
      "BATCH 91\n",
      "BATCH 92\n",
      "BATCH 93\n",
      "BATCH 94\n",
      "BATCH 95\n",
      "BATCH 96\n",
      "BATCH 97\n",
      "BATCH 98\n",
      "BATCH 99\n",
      "End of the 10 turns.\n",
      " iter | p1 | p2 \n",
      "     1| 1  | 0  \n",
      "     2| 1  | 1  \n",
      "     3| 1  | 1  \n",
      "     4| 1  | 1  \n",
      "     5| 1  | 1  \n",
      "     6| 1  | 1  \n",
      "     7| 1  | 1  \n",
      "     8| 1  | 1  \n",
      "     9| 1  | 1  \n",
      "    10| 1  | 1  \n",
      "scores|107.0|97.0\n",
      " util |107 | 97 \n",
      "\n",
      "p1 has won !\n"
     ]
    }
   ],
   "source": [
    "learning()"
   ]
  },
  {
   "cell_type": "code",
   "execution_count": null,
   "metadata": {},
   "outputs": [],
   "source": []
  }
 ],
 "metadata": {
  "kernelspec": {
   "display_name": "Python 3",
   "language": "python",
   "name": "python3"
  },
  "language_info": {
   "codemirror_mode": {
    "name": "ipython",
    "version": 3
   },
   "file_extension": ".py",
   "mimetype": "text/x-python",
   "name": "python",
   "nbconvert_exporter": "python",
   "pygments_lexer": "ipython3",
   "version": "3.7.3"
  }
 },
 "nbformat": 4,
 "nbformat_minor": 2
}
